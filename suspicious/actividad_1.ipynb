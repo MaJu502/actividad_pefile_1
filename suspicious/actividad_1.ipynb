{
 "cells": [
  {
   "cell_type": "code",
   "execution_count": 5,
   "metadata": {},
   "outputs": [],
   "source": [
    "#pip install pefile"
   ]
  },
  {
   "cell_type": "code",
   "execution_count": 6,
   "metadata": {},
   "outputs": [],
   "source": [
    "import pefile"
   ]
  },
  {
   "cell_type": "code",
   "execution_count": 7,
   "metadata": {},
   "outputs": [],
   "source": [
    "pe = pefile.PE(\"suspicious.exe\")"
   ]
  },
  {
   "cell_type": "code",
   "execution_count": 8,
   "metadata": {},
   "outputs": [
    {
     "name": "stdout",
     "output_type": "stream",
     "text": [
      ".text 0x1000 0x1d9a36 1940480\n",
      ".rdata 0x1db000 0x1d31e0 1913344\n",
      ".data 0x3af000 0xb02c0 333312\n",
      "/4 0x460000 0x119 512\n",
      "/19 0x461000 0x4e6ed 321536\n",
      "/32 0x4b0000 0x104de 67072\n",
      "/46 0x4c1000 0x2a 512\n",
      "/65 0x4c2000 0x7fb53 523264\n",
      "/78 0x542000 0x5e5a1 386560\n",
      "/90 0x5a1000 0x19f80 106496\n",
      ".idata 0x5bb000 0x48c 1536\n",
      ".reloc 0x5bc000 0x13afa 80896\n",
      ".symtab 0x5d0000 0x453a4 283648\n"
     ]
    }
   ],
   "source": [
    "for section in pe.sections:\n",
    "    print(section.Name.decode().rstrip('\\x00'), hex(section.VirtualAddress), hex(section.Misc_VirtualSize), section.SizeOfRawData)"
   ]
  },
  {
   "cell_type": "code",
   "execution_count": 9,
   "metadata": {},
   "outputs": [
    {
     "name": "stdout",
     "output_type": "stream",
     "text": [
      "KERNEL32.DLL\n"
     ]
    }
   ],
   "source": [
    "for entry in pe.DIRECTORY_ENTRY_IMPORT:\n",
    "    print(entry.dll.decode())"
   ]
  },
  {
   "cell_type": "code",
   "execution_count": 10,
   "metadata": {},
   "outputs": [
    {
     "name": "stdout",
     "output_type": "stream",
     "text": [
      "WriteFile\n",
      "WriteConsoleW\n",
      "WaitForMultipleObjects\n",
      "WaitForSingleObject\n",
      "VirtualQuery\n",
      "VirtualFree\n",
      "VirtualAlloc\n",
      "SwitchToThread\n",
      "SuspendThread\n",
      "Sleep\n",
      "SetWaitableTimer\n",
      "SetUnhandledExceptionFilter\n",
      "SetProcessPriorityBoost\n",
      "SetEvent\n",
      "SetErrorMode\n",
      "SetConsoleCtrlHandler\n",
      "ResumeThread\n",
      "PostQueuedCompletionStatus\n",
      "LoadLibraryA\n",
      "LoadLibraryW\n",
      "SetThreadContext\n",
      "GetThreadContext\n",
      "GetSystemInfo\n",
      "GetSystemDirectoryA\n",
      "GetStdHandle\n",
      "GetQueuedCompletionStatusEx\n",
      "GetProcessAffinityMask\n",
      "GetProcAddress\n",
      "GetEnvironmentStringsW\n",
      "GetConsoleMode\n",
      "FreeEnvironmentStringsW\n",
      "ExitProcess\n",
      "DuplicateHandle\n",
      "CreateWaitableTimerExW\n",
      "CreateThread\n",
      "CreateIoCompletionPort\n",
      "CreateFileA\n",
      "CreateEventA\n",
      "CloseHandle\n",
      "AddVectoredExceptionHandler\n"
     ]
    }
   ],
   "source": [
    "for entry in pe.DIRECTORY_ENTRY_IMPORT:\n",
    "    for imp in entry.imports:\n",
    "        print(imp.name.decode())"
   ]
  }
 ],
 "metadata": {
  "kernelspec": {
   "display_name": "Python 3",
   "language": "python",
   "name": "python3"
  },
  "language_info": {
   "codemirror_mode": {
    "name": "ipython",
    "version": 3
   },
   "file_extension": ".py",
   "mimetype": "text/x-python",
   "name": "python",
   "nbconvert_exporter": "python",
   "pygments_lexer": "ipython3",
   "version": "3.10.5"
  }
 },
 "nbformat": 4,
 "nbformat_minor": 2
}
